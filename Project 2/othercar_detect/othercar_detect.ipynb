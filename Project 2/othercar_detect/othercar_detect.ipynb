{
 "cells": [
  {
   "attachments": {},
   "cell_type": "markdown",
   "metadata": {},
   "source": [
    "상대 차량에서 필요한 부분만 남기기"
   ]
  },
  {
   "cell_type": "code",
   "execution_count": 15,
   "metadata": {},
   "outputs": [
    {
     "data": {
      "text/plain": [
       "True"
      ]
     },
     "execution_count": 15,
     "metadata": {},
     "output_type": "execute_result"
    }
   ],
   "source": [
    "import cv2\n",
    "import numpy as np\n",
    "\n",
    "# 이미지 불러오기\n",
    "image_path1 = \"frame_world00070.jpg\"\n",
    "image_path2 = \"frame_world00071.jpg\"\n",
    "image = cv2.imread(image_path1)\n",
    "image2 = cv2.imread(image_path2)\n",
    "\n",
    "# 이미지를 흑백으로 변환\n",
    "gray_image = cv2.cvtColor(image, cv2.COLOR_BGR2GRAY)\n",
    "gray_image2 = cv2.cvtColor(image2, cv2.COLOR_BGR2GRAY)\n",
    "\n",
    "# 특정 x좌표와 y좌표 범위 필터링 (x: 200 ~ 300, y: 0 ~ 15)\n",
    "x_min, x_max = 200, 250\n",
    "y_min, y_max = 0, 30\n",
    "\n",
    "# 새로운 빈 이미지 생성 (원본 이미지와 동일한 크기)\n",
    "filtered_image = np.zeros_like(image)\n",
    "filtered_image2 = np.zeros_like(image2)\n",
    "\n",
    "# y좌표가 0부터 15인 부분만 복사\n",
    "filtered_image[y_min:y_max+1, x_min:x_max+1] = image[y_min:y_max+1, x_min:x_max+1]\n",
    "filtered_image2[y_min:y_max+1, x_min:x_max+1] = image2[y_min:y_max+1, x_min:x_max+1]\n",
    "\n",
    "# 결과 이미지 저장\n",
    "output_image_path = \"filtered_image_with_y_crop.jpg\"\n",
    "output_image_path2 = \"filtered_image_with_y_crop2.jpg\"\n",
    "cv2.imwrite(output_image_path, filtered_image)\n",
    "cv2.imwrite(output_image_path2, filtered_image2)\n",
    "\n",
    "#print(f\"Filtered image saved to {output_image_path}\")\n",
    "\n",
    "#print(filtered_image)\n"
   ]
  },
  {
   "cell_type": "code",
   "execution_count": 1,
   "metadata": {},
   "outputs": [
    {
     "name": "stdout",
     "output_type": "stream",
     "text": [
      "Mean Y-coordinate in first image: 8.0\n",
      "Mean Y-coordinate in second image: 12.090909090909092\n",
      "Y-coordinate difference: 4.090909090909092\n",
      "Speed: 122.72727272727275 pixels/second\n"
     ]
    }
   ],
   "source": [
    "## left mode 진입하기 -2, -3 프레임 기준으로 계산해서 넣으면 \n",
    "\n",
    "from PIL import Image\n",
    "import numpy as np\n",
    "\n",
    "def othercar_speed(image_path_1, image_path_2, fps):\n",
    "    # 이미지 로드\n",
    "    image1 = Image.open(image_path_1)\n",
    "    image2 = Image.open(image_path_2)\n",
    "\n",
    "    # 배열 변환\n",
    "    array1 = np.array(image1)\n",
    "    array2 = np.array(image2)\n",
    "\n",
    "    # 흰색 픽셀로 간주하기 위한 threshold\n",
    "    threshold = 230\n",
    "\n",
    "    # 흰색 픽셀 저장\n",
    "    coords1_whiteish = np.column_stack(np.where(array1 >= threshold))\n",
    "    coords2_whiteish = np.column_stack(np.where(array2 >= threshold))\n",
    "\n",
    "    # 속도 계산을 위한 y좌표 추출\n",
    "    y_coords1 = coords1_whiteish[:, 0]\n",
    "    y_coords2 = coords2_whiteish[:, 0]\n",
    "\n",
    "    # y좌표 중심 계산 (-> 변화량 계산하기 쉽게 + 노이즈 제거)\n",
    "    mean_y1 = np.mean(y_coords1)\n",
    "    mean_y2 = np.mean(y_coords2)\n",
    "\n",
    "    # 중심으로 변화량 계산\n",
    "    y_difference = abs(mean_y2 - mean_y1)\n",
    "\n",
    "    # 시간 간격\n",
    "    time_interval = 1 / fps  # seconds\n",
    "\n",
    "    # 상대 차량의 속도 계산\n",
    "    speed = y_difference / time_interval\n",
    "\n",
    "    return mean_y1, mean_y2, y_difference, speed\n",
    "\n",
    "\n",
    "image_path_1 = 'filtered_image_with_y_crop.jpg'\n",
    "image_path_2 = 'filtered_image_with_y_crop2.jpg'\n",
    "fps = 30\n",
    "\n",
    "mean_y1, mean_y2, y_difference, speed = othercar_speed(image_path_1, image_path_2, fps)\n",
    "print(f\"Mean Y-coordinate in first image: {mean_y1}\")\n",
    "print(f\"Mean Y-coordinate in second image: {mean_y2}\")\n",
    "print(f\"Y-coordinate difference: {y_difference}\")\n",
    "print(f\"Speed: {speed} pixels/second\")"
   ]
  }
 ],
 "metadata": {
  "kernelspec": {
   "display_name": "Python 3",
   "language": "python",
   "name": "python3"
  },
  "language_info": {
   "codemirror_mode": {
    "name": "ipython",
    "version": 3
   },
   "file_extension": ".py",
   "mimetype": "text/x-python",
   "name": "python",
   "nbconvert_exporter": "python",
   "pygments_lexer": "ipython3",
   "version": "3.12.2"
  }
 },
 "nbformat": 4,
 "nbformat_minor": 2
}
